{
 "cells": [
  {
   "cell_type": "code",
   "execution_count": 2,
   "id": "85e89b89-be58-43e5-937f-a917321ed101",
   "metadata": {},
   "outputs": [],
   "source": [
    "import pandas as pd\n",
    "import mysql.connector\n",
    "\n",
    "# Set up the database connection\n",
    "db_connection = mysql.connector.connect(\n",
    "    host=\"localhost\",\n",
    "    user=\"root\",\n",
    "    password=\"\",\n",
    "    database=\"bikestore\"\n",
    ")\n",
    "cursor = db_connection.cursor()"
   ]
  },
  {
   "cell_type": "code",
   "execution_count": 1,
   "id": "9bb85f57",
   "metadata": {},
   "outputs": [],
   "source": [
    "import os\n",
    "os.chdir(r\"C:\\Users\\alaaa\\Downloads\\archive (1)\")"
   ]
  },
  {
   "cell_type": "code",
   "execution_count": 3,
   "id": "a683940c-8440-4711-8cb1-3936c7fe440a",
   "metadata": {},
   "outputs": [
    {
     "name": "stdout",
     "output_type": "stream",
     "text": [
      "Data from brands.csv inserted into brands\n",
      "Data from categories.csv inserted into categories\n",
      "Data from products.csv inserted into products\n",
      "Data from stores.csv inserted into stores\n",
      "Data from customers.csv inserted into customers\n",
      "Data from staffs.csv inserted into staffs\n",
      "Data from orders.csv inserted into orders\n",
      "Data from stocks.csv inserted into stocks\n",
      "Data from order_items.csv inserted into order_items\n"
     ]
    }
   ],
   "source": [
    "# Function to import CSV data into a table\n",
    "def import_csv_to_table(file_path, table_name):\n",
    "    # Read the file\n",
    "    df = pd.read_csv(file_path)\n",
    "    \n",
    "    # Replace NaN values with None (NULL for MySQL)\n",
    "    df = df.where(pd.notnull(df), None)\n",
    "    \n",
    "    # Prepare SQL placeholders and columns\n",
    "    placeholders = ', '.join(['%s'] * len(df.columns))\n",
    "    columns = ', '.join([f\"`{col}`\" for col in df.columns])\n",
    "    sql = f\"INSERT INTO {table_name} ({columns}) VALUES ({placeholders})\"\n",
    "\n",
    "    # Insert data into the table\n",
    "    for row in df.itertuples(index=False):\n",
    "        clean_row = tuple(None if pd.isna(value) else value for value in row)\n",
    "        cursor.execute(sql, clean_row)\n",
    "    db_connection.commit()\n",
    "    print(f\"Data from {file_path} inserted into {table_name}\")\n",
    "\n",
    "# Import data files dynamically\n",
    "try:\n",
    "    csv_files = [\n",
    "        \"brands.csv\",\n",
    "        \"categories.csv\",\n",
    "        \"products.csv\",\n",
    "        \"stores.csv\",\n",
    "        \"customers.csv\",\n",
    "        \"staffs.csv\",\n",
    "        \"orders.csv\",\n",
    "        \"stocks.csv\",\n",
    "        \"order_items.csv\"\n",
    "    ]\n",
    "    \n",
    "    for file in csv_files:\n",
    "        table_name = file.split(\".\")[0]  # Extract table name from filename\n",
    "        import_csv_to_table(file, table_name)\n",
    "finally:\n",
    "    cursor.close()\n",
    "    db_connection.close()"
   ]
  },
  {
   "cell_type": "code",
   "execution_count": null,
   "id": "09859154",
   "metadata": {},
   "outputs": [],
   "source": []
  }
 ],
 "metadata": {
  "kernelspec": {
   "display_name": "base",
   "language": "python",
   "name": "python3"
  },
  "language_info": {
   "codemirror_mode": {
    "name": "ipython",
    "version": 3
   },
   "file_extension": ".py",
   "mimetype": "text/x-python",
   "name": "python",
   "nbconvert_exporter": "python",
   "pygments_lexer": "ipython3",
   "version": "3.12.4"
  }
 },
 "nbformat": 4,
 "nbformat_minor": 5
}
